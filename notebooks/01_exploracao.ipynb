{
 "cells": [
  {
   "cell_type": "markdown",
   "metadata": {},
   "source": [
    "# EcoTravel Agent - Exploração dos Dados\n",
    "\n",
    "Este notebook demonstra a exploração dos dados de viagens sustentáveis e a configuração inicial do sistema."
   ]
  },
  {
   "cell_type": "code",
   "execution_count": null,
   "metadata": {},
   "outputs": [],
   "source": [
    "import sys\n",
    "import os\n",
    "import pandas as pd\n",
    "import json\n",
    "import matplotlib.pyplot as plt\n",
    "import seaborn as sns\n",
    "from pathlib import Path\n",
    "\n",
    "# Configurar path para imports\n",
    "sys.path.append('../src')\n",
    "\n",
    "# Configurar visualizações\n",
    "plt.style.use('seaborn-v0_8')\n",
    "sns.set_palette(\"husl\")\n",
    "%matplotlib inline"
   ]
  },
  {
   "cell_type": "markdown",
   "metadata": {},
   "source": [
    "## 1. Carregamento e Análise dos Dados de Emissões"
   ]
  },
  {
   "cell_type": "code",
   "execution_count": null,
   "metadata": {},
   "outputs": [],
   "source": [
    "# Carregar dados de emissões\n",
    "emissoes_df = pd.read_csv('../data/emissoes/emissoes_transporte.csv')\n",
    "\n",
    "print(\"Dados de Emissões de Transporte:\")\n",
    "print(emissoes_df)\n",
    "print(f\"\\nShape: {emissoes_df.shape}\")\n",
    "print(f\"\\nInfo:\")\n",
    "emissoes_df.info()"
   ]
  },
  {
   "cell_type": "code",
   "execution_count": null,
   "metadata": {},
   "outputs": [],
   "source": [
    "# Visualizar emissões por modal de transporte\n",
    "plt.figure(figsize=(12, 6))\n",
    "\n",
    "# Gráfico de barras para emissões\n",
    "plt.subplot(1, 2, 1)\n",
    "bars = plt.bar(emissoes_df['modal_transporte'], emissoes_df['emissao_co2_kg_km'])\n",
    "plt.title('Emissões de CO2 por Modal de Transporte')\n",
    "plt.xlabel('Modal de Transporte')\n",
    "plt.ylabel('Emissão CO2 (kg/km)')\n",
    "plt.xticks(rotation=45)\n",
    "\n",
    "# Adicionar valores nas barras\n",
    "for bar in bars:\n",
    "    height = bar.get_height()\n",
    "    plt.text(bar.get_x() + bar.get_width()/2., height + 0.005,\n",
    "             f'{height:.3f}', ha='center', va='bottom')\n",
    "\n",
    "# Gráfico de custo vs emissão\n",
    "plt.subplot(1, 2, 2)\n",
    "plt.scatter(emissoes_df['custo_medio_km'], emissoes_df['emissao_co2_kg_km'], \n",
    "           s=100, alpha=0.7)\n",
    "\n",
    "# Adicionar labels aos pontos\n",
    "for i, modal in enumerate(emissoes_df['modal_transporte']):\n",
    "    plt.annotate(modal, \n",
    "                (emissoes_df['custo_medio_km'].iloc[i], \n",
    "                 emissoes_df['emissao_co2_kg_km'].iloc[i]),\n",
    "                xytext=(5, 5), textcoords='offset points')\n",
    "\n",
    "plt.title('Custo vs Emissão de CO2')\n",
    "plt.xlabel('Custo Médio (R$/km)')\n",
    "plt.ylabel('Emissão CO2 (kg/km)')\n",
    "\n",
    "plt.tight_layout()\n",
    "plt.show()"
   ]
  },
  {
   "cell_type": "markdown",
   "metadata": {},
   "source": [
    "## 2. Análise dos Hotéis Sustentáveis"
   ]
  },
  {
   "cell_type": "code",
   "execution_count": null,
   "metadata": {},
   "outputs": [],
   "source": [
    "# Carregar dados de hotéis sustentáveis\n",
    "with open('../data/avaliacoes/hoteis_sustentaveis.json', 'r', encoding='utf-8') as f:\n",
    "    hoteis_data = json.load(f)\n",
    "\n",
    "hoteis_df = pd.DataFrame(hoteis_data['hotéis_sustentáveis'])\n",
    "\n",
    "print(\"Hotéis Sustentáveis:\")\n",
    "print(hoteis_df[['nome', 'cidade', 'estado', 'nota_sustentabilidade', 'preço_diária']])\n",
    "print(f\"\\nEstatísticas:\")\n",
    "print(hoteis_df[['nota_sustentabilidade', 'preço_diária']].describe())"
   ]
  },
  {
   "cell_type": "code",
   "execution_count": null,
   "metadata": {},
   "outputs": [],
   "source": [
    "# Visualizações dos hotéis\n",
    "plt.figure(figsize=(15, 5))\n",
    "\n",
    "# Distribuição por estado\n",
    "plt.subplot(1, 3, 1)\n",
    "estado_counts = hoteis_df['estado'].value_counts()\n",
    "plt.pie(estado_counts.values, labels=estado_counts.index, autopct='%1.1f%%')\n",
    "plt.title('Distribuição de Hotéis por Estado')\n",
    "\n",
    "# Nota de sustentabilidade\n",
    "plt.subplot(1, 3, 2)\n",
    "plt.bar(hoteis_df['nome'], hoteis_df['nota_sustentabilidade'], color='green', alpha=0.7)\n",
    "plt.title('Nota de Sustentabilidade por Hotel')\n",
    "plt.ylabel('Nota (0-10)')\n",
    "plt.xticks(rotation=45, ha='right')\n",
    "\n",
    "# Preço vs Sustentabilidade\n",
    "plt.subplot(1, 3, 3)\n",
    "plt.scatter(hoteis_df['preço_diária'], hoteis_df['nota_sustentabilidade'], \n",
    "           s=100, alpha=0.7, color='green')\n",
    "plt.title('Preço vs Nota de Sustentabilidade')\n",
    "plt.xlabel('Preço por Diária (R$)')\n",
    "plt.ylabel('Nota de Sustentabilidade')\n",
    "\n",
    "plt.tight_layout()\n",
    "plt.show()"
   ]
  },
  {
   "cell_type": "markdown",
   "metadata": {},
   "source": [
    "## 3. Análise de Práticas Sustentáveis"
   ]
  },
  {
   "cell_type": "code",
   "execution_count": null,
   "metadata": {},
   "outputs": [],
   "source": [
    "# Extrair e contar práticas sustentáveis\n",
    "all_practices = []\n",
    "for practices in hoteis_df['práticas']:\n",
    "    all_practices.extend(practices)\n",
    "\n",
    "practices_counts = pd.Series(all_practices).value_counts()\n",
    "\n",
    "print(\"Práticas Sustentáveis Mais Comuns:\")\n",
    "print(practices_counts)\n",
    "\n",
    "# Visualizar práticas\n",
    "plt.figure(figsize=(10, 6))\n",
    "practices_counts.plot(kind='bar', color='forestgreen', alpha=0.8)\n",
    "plt.title('Frequência de Práticas Sustentáveis nos Hotéis')\n",
    "plt.xlabel('Práticas Sustentáveis')\n",
    "plt.ylabel('Número de Hotéis')\n",
    "plt.xticks(rotation=45, ha='right')\n",
    "plt.tight_layout()\n",
    "plt.show()"
   ]
  },
  {
   "cell_type": "markdown",
   "metadata": {},
   "source": [
    "## 4. Simulação de Cálculos de Pegada de Carbono"
   ]
  },
  {
   "cell_type": "code",
   "execution_count": null,
   "metadata": {},
   "outputs": [],
   "source": [
    "# Importar calculadora de carbono\n",
    "from tools.carbon_calculator import CarbonCalculator\n",
    "\n",
    "# Criar instância da calculadora\n",
    "calc = CarbonCalculator()\n",
    "\n",
    "# Simulação: São Paulo -> Rio de Janeiro (400 km)\n",
    "distance = 400\n",
    "routes = [\n",
    "    {\"name\": \"SP-RJ\", \"distance\": 400},\n",
    "    {\"name\": \"SP-BSB\", \"distance\": 1000},\n",
    "    {\"name\": \"RJ-SSA\", \"distance\": 1200},\n",
    "    {\"name\": \"SP-Floripa\", \"distance\": 600}\n",
    "]\n",
    "\n",
    "# Calcular emissões para diferentes rotas e modais\n",
    "results = []\n",
    "for route in routes:\n",
    "    comparison = calc.compare_transport_modes(route[\"distance\"])\n",
    "    for comp in comparison:\n",
    "        results.append({\n",
    "            \"route\": route[\"name\"],\n",
    "            \"distance\": route[\"distance\"],\n",
    "            \"modal\": comp[\"transport_mode\"],\n",
    "            \"emission\": comp[\"total_emission_kg_co2\"]\n",
    "        })\n",
    "\n",
    "results_df = pd.DataFrame(results)\n",
    "print(\"Emissões por Rota e Modal:\")\n",
    "print(results_df.pivot(index='route', columns='modal', values='emission').round(2))"
   ]
  },
  {
   "cell_type": "code",
   "execution_count": null,
   "metadata": {},
   "outputs": [],
   "source": [
    "# Visualizar comparação de emissões\n",
    "plt.figure(figsize=(12, 8))\n",
    "\n",
    "# Criar gráfico agrupado\n",
    "pivot_df = results_df.pivot(index='route', columns='modal', values='emission')\n",
    "\n",
    "ax = pivot_df.plot(kind='bar', figsize=(12, 6), width=0.8)\n",
    "plt.title('Emissões de CO2 por Rota e Modal de Transporte')\n",
    "plt.xlabel('Rota')\n",
    "plt.ylabel('Emissão CO2 (kg)')\n",
    "plt.legend(title='Modal de Transporte', bbox_to_anchor=(1.05, 1), loc='upper left')\n",
    "plt.xticks(rotation=45)\n",
    "plt.tight_layout()\n",
    "plt.show()\n",
    "\n",
    "# Economia de CO2 escolhendo modal sustentável\n",
    "savings_data = []\n",
    "for route in routes:\n",
    "    comparison = calc.compare_transport_modes(route[\"distance\"])\n",
    "    most_sustainable = comparison[0]  # Já ordenado por emissão\n",
    "    least_sustainable = comparison[-1]\n",
    "    \n",
    "    savings = least_sustainable[\"total_emission_kg_co2\"] - most_sustainable[\"total_emission_kg_co2\"]\n",
    "    savings_data.append({\n",
    "        \"route\": route[\"name\"],\n",
    "        \"distance\": route[\"distance\"],\n",
    "        \"savings_kg_co2\": savings,\n",
    "        \"best_modal\": most_sustainable[\"transport_mode\"],\n",
    "        \"worst_modal\": least_sustainable[\"transport_mode\"]\n",
    "    })\n",
    "\n",
    "savings_df = pd.DataFrame(savings_data)\n",
    "print(\"\\nEconomia de CO2 escolhendo modal mais sustentável:\")\n",
    "print(savings_df)"
   ]
  },
  {
   "cell_type": "markdown",
   "metadata": {},
   "source": [
    "## 5. Análise do Conteúdo dos Guias"
   ]
  },
  {
   "cell_type": "code",
   "execution_count": null,
   "metadata": {},
   "outputs": [],
   "source": [
    "# Carregar e analisar guia de viagens\n",
    "with open('../data/guias/guia_sustentavel_brasil.txt', 'r', encoding='utf-8') as f:\n",
    "    guia_content = f.read()\n",
    "\n",
    "print(f\"Tamanho do guia: {len(guia_content)} caracteres\")\n",
    "print(f\"Número de linhas: {len(guia_content.split(chr(10)))}\")\n",
    "print(f\"Número de palavras: {len(guia_content.split())}\")\n",
    "\n",
    "# Análise de palavras-chave\n",
    "keywords = ['sustentável', 'carbono', 'energia', 'local', 'eco', 'ônibus', 'trem', 'avião']\n",
    "\n",
    "keyword_counts = {}\n",
    "for keyword in keywords:\n",
    "    count = guia_content.lower().count(keyword.lower())\n",
    "    keyword_counts[keyword] = count\n",
    "\n",
    "print(\"\\nFrequência de palavras-chave no guia:\")\n",
    "for word, count in sorted(keyword_counts.items(), key=lambda x: x[1], reverse=True):\n",
    "    print(f\"{word}: {count} ocorrências\")"
   ]
  },
  {
   "cell_type": "code",
   "execution_count": null,
   "metadata": {},
   "outputs": [],
   "source": [
    "# Visualizar frequência de palavras-chave\n",
    "plt.figure(figsize=(10, 6))\n",
    "words = list(keyword_counts.keys())\n",
    "counts = list(keyword_counts.values())\n",
    "\n",
    "bars = plt.bar(words, counts, color='lightgreen', alpha=0.8)\n",
    "plt.title('Frequência de Palavras-Chave no Guia de Viagens Sustentáveis')\n",
    "plt.xlabel('Palavras-Chave')\n",
    "plt.ylabel('Número de Ocorrências')\n",
    "plt.xticks(rotation=45)\n",
    "\n",
    "# Adicionar valores nas barras\n",
    "for bar in bars:\n",
    "    height = bar.get_height()\n",
    "    plt.text(bar.get_x() + bar.get_width()/2., height + 0.1,\n",
    "             f'{int(height)}', ha='center', va='bottom')\n",
    "\n",
    "plt.tight_layout()\n",
    "plt.show()"
   ]
  },
  {
   "cell_type": "markdown",
   "metadata": {},
   "source": [
    "## 6. Teste Básico do Sistema RAG"
   ]
  },
  {
   "cell_type": "code",
   "execution_count": null,
   "metadata": {},
   "outputs": [],
   "source": [
    "# Tentar importar e testar sistema RAG\n",
    "try:\n",
    "    from rag.rag_system import AdvancedRAGSystem\n",
    "    \n",
    "    print(\"Inicializando sistema RAG...\")\n",
    "    rag = AdvancedRAGSystem(data_path=\"../data\")\n",
    "    \n",
    "    print(\"Construindo índices...\")\n",
    "    rag.build_index()\n",
    "    \n",
    "    print(f\"Sistema construído com sucesso!\")\n",
    "    print(f\"Documentos carregados: {len(rag.documents)}\")\n",
    "    print(f\"Chunks criados: {len(rag.chunks)}\")\n",
    "    \n",
    "    # Teste de busca\n",
    "    query = \"Como viajar de São Paulo para Rio de Janeiro de forma sustentável?\"\n",
    "    results = rag.search(query, k=3)\n",
    "    \n",
    "    print(f\"\\nTeste de busca: '{query}'\")\n",
    "    print(f\"Resultados encontrados: {len(results)}\")\n",
    "    \n",
    "    for i, result in enumerate(results, 1):\n",
    "        print(f\"\\n{i}. Score: {result['score']:.3f}\")\n",
    "        print(f\"Método: {result['method']}\")\n",
    "        print(f\"Conteúdo: {result['content'][:200]}...\")\n",
    "        \n",
    "except Exception as e:\n",
    "    print(f\"Erro ao testar sistema RAG: {e}\")\n",
    "    print(\"Certifique-se de que todas as dependências estão instaladas.\")"
   ]
  },
  {
   "cell_type": "markdown",
   "metadata": {},
   "source": [
    "## 7. Resumo da Exploração\n",
    "\n",
    "### Principais Insights:\n",
    "\n",
    "1. **Emissões de Transporte**: O trem é o modal mais sustentável (0.041 kg CO2/km), seguido pelo ônibus (0.089 kg CO2/km)\n",
    "\n",
    "2. **Hotéis Sustentáveis**: Média de nota 8.7/10, com práticas como energia solar sendo mais comuns\n",
    "\n",
    "3. **Economia de CO2**: Escolher modal sustentável pode economizar 50-100+ kg CO2 em viagens longas\n",
    "\n",
    "4. **Base de Conhecimento**: Guia abrangente com foco em sustentabilidade e práticas locais\n",
    "\n",
    "### Próximos Passos:\n",
    "- Implementar ferramentas de busca e cálculo\n",
    "- Integrar com APIs de clima e busca web\n",
    "- Desenvolver agente conversacional\n",
    "- Criar interface de usuário"
   ]
  }
 ],
 "metadata": {
  "kernelspec": {
   "display_name": "Python 3",
   "language": "python",
   "name": "python3"
  },
  "language_info": {
   "codemirror_mode": {
    "name": "ipython",
    "version": 3
   },
   "file_extension": ".py",
   "mimetype": "text/x-python",
   "name": "python",
   "nbconvert_exporter": "python",
   "pygments_lexer": "ipython3",
   "version": "3.8.5"
  }
 },
 "nbformat": 4,
 "nbformat_minor": 4
}